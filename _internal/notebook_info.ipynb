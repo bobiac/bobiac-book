{
 "cells": [
  {
   "cell_type": "markdown",
   "id": "516e4dd6",
   "metadata": {
    "vscode": {
     "languageId": "plaintext"
    }
   },
   "source": [
    "\n",
    "# Title\n",
    "\n",
    "<div class=\"custom-button-row\">\n",
    "    <a \n",
    "        class=\"custom-button custom-download-button\" href=\"../../notebooks/notebook_folder/notebook_name.ipynb\" download>\n",
    "        <i class=\"fas fa-download\"></i> Download this Notebook\n",
    "    </a>\n",
    "    <a\n",
    "    class=\"custom-button custom-download-button\" href=\"https://colab.research.google.com/github/bobiac/bobiac-book/blob/gh-pages/colab_notebooks/notebook_folder/notebook_name.ipynb\" target=\"_blank\">\n",
    "        <img class=\"button-icon\" src=\"../../_static/logo/icon-google-colab.svg\" alt=\"Open in Colab\">\n",
    "        Open in Colab\n",
    "    </a>\n",
    "</div>\n",
    "\n",
    "## Jupyter Notebook\n",
    ">NOTE: the path to download the notebooks should always be: `../../notebooks/notebook_folder/notebook_name.ipynb`. You do not need to move the notebook yourself, the `bash.sh` takes care of that.\n",
    "For example, if the notebook is in `content/python_basics/python_basics_notebook.ipynb`, the path to download it should be `../../notebooks/python_basics/python_basics_notebook.ipynb`.\n",
    "\n",
    "\n",
    "## Colab\n",
    ">NOTE: the path to the colab notebook should always be: `https://colab.research.google.com/github/bobiac/bobiac-book/blob/gh-pages/colab_notebooks/notebook_folder/notebook_name.ipynb`. You do not need to move the notebook yourself, the `bash.sh` takes care of that.\n",
    "For example, if the notebook is in `content/python_basics/python_basics_notebook.ipynb`, the path to download it should be `https://colab.research.google.com/github/bobiac/bobiac-book/blob/gh-pages/colab_notebooks/python_basics/python_basics_notebook.ipynb`.\n",
    "\n",
    ">NOTE: The `ndv` package does not work in colab, so the bash script will automatically comment out any lines that contain `ndv` in the colab version of the notebook."
   ]
  },
  {
   "cell_type": "code",
   "execution_count": null,
   "id": "dc90f5a8",
   "metadata": {},
   "outputs": [],
   "source": [
    "# /// script\n",
    "# requires-python = \">=3.12\"\n",
    "# dependencies = [\n",
    "#     \"matplotlib\",\n",
    "#     \"ndv[jupyter,vispy]\",\n",
    "#     \"numpy\",\n",
    "#     \"scikit-image\",\n",
    "#     \"tifffile\",\n",
    "# ]\n",
    "# ///"
   ]
  },
  {
   "cell_type": "markdown",
   "id": "4a85543e",
   "metadata": {},
   "source": [
    "# Description\n",
    "In this Notebook...\n",
    "\n",
    "## Objectives\n",
    "- ...\n",
    "- ...\n",
    "\n",
    "## Table of Contents\n",
    "- ...\n",
    "- ..."
   ]
  },
  {
   "cell_type": "code",
   "execution_count": null,
   "id": "b867c095",
   "metadata": {},
   "outputs": [],
   "source": [
    "import numpy as np\n",
    "import ndv\n",
    "\n",
    "img = np.random.randint(0, 255, (10, 100, 100), dtype=np.uint8)"
   ]
  },
  {
   "cell_type": "code",
   "execution_count": null,
   "id": "20d50d98",
   "metadata": {
    "tags": [
     "skip-execution"
    ]
   },
   "outputs": [],
   "source": [
    "# since ndv for now cannot be rendered when the book is build, we need to take any cell\n",
    "# that has \"ndv.imshow(data)\" with the take \"skip-execution\" so that it is not executed\n",
    "# when building the book. This tag is automatically removed when downloading the book\n",
    "# with the \"download\" button.\n",
    "ndv.imshow(img)"
   ]
  },
  {
   "cell_type": "code",
   "execution_count": null,
   "id": "faa53e42",
   "metadata": {
    "tags": [
     "remove-input",
     "remove-output"
    ]
   },
   "outputs": [],
   "source": [
    "# the 2 cells below are the one we need to add to replace the one above so that when\n",
    "# the book is built, at least the image is shown in the book. We need to tach this cell\n",
    "# with \"remove-input\" and \"remove-output\" so that it is not shown in the build book.\n",
    "viewer = ndv.imshow(img)"
   ]
  },
  {
   "cell_type": "code",
   "execution_count": null,
   "id": "f7c45f1b",
   "metadata": {
    "tags": [
     "remove-input"
    ]
   },
   "outputs": [],
   "source": [
    "# We need to tach this cell with \"remove-input\" so that it is not shown in the build book.\n",
    "viewer.widget().children[1].snapshot()"
   ]
  },
  {
   "cell_type": "markdown",
   "id": "3ca649e7",
   "metadata": {},
   "source": [
    "## Exercise\n",
    "\n",
    "- create a variable x and assign it the value 5.\n",
    "- print the value of x."
   ]
  },
  {
   "cell_type": "code",
   "execution_count": null,
   "id": "da80fb64",
   "metadata": {
    "tags": [
     "teacher"
    ]
   },
   "outputs": [],
   "source": [
    "# this is the solution of the exercise. we should tag it with the \"teacher\" tag so that\n",
    "# the content (and the output) will be celared when downloading the notebook.\n",
    "x = 5\n",
    "print(x)"
   ]
  }
 ],
 "metadata": {
  "kernelspec": {
   "display_name": ".venv",
   "language": "python",
   "name": "python3"
  },
  "language_info": {
   "codemirror_mode": {
    "name": "ipython",
    "version": 3
   },
   "file_extension": ".py",
   "mimetype": "text/x-python",
   "name": "python",
   "nbconvert_exporter": "python",
   "pygments_lexer": "ipython3",
   "version": "3.12.8"
  }
 },
 "nbformat": 4,
 "nbformat_minor": 5
}
