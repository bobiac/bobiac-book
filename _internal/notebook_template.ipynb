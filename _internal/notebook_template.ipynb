{
 "cells": [
  {
   "cell_type": "markdown",
   "id": "516e4dd6",
   "metadata": {
    "vscode": {
     "languageId": "plaintext"
    }
   },
   "source": [
    "# Title"
   ]
  },
  {
   "cell_type": "code",
   "execution_count": null,
   "id": "dc90f5a8",
   "metadata": {},
   "outputs": [],
   "source": [
    "# /// script\n",
    "# requires-python = \">=3.12\"\n",
    "# dependencies = [\n",
    "#     \"matplotlib\",\n",
    "#     \"ndv[jupyter,vispy]\",\n",
    "#     \"numpy\",\n",
    "#     \"scikit-image\",\n",
    "#     \"tifffile\",\n",
    "# ]\n",
    "# ///"
   ]
  },
  {
   "cell_type": "markdown",
   "id": "4a85543e",
   "metadata": {},
   "source": [
    "# Description\n",
    "In this Notebook...\n",
    "\n",
    "## Objectives\n",
    "- ...\n",
    "- ...\n",
    "\n",
    "## Table of Contents\n",
    "- ...\n",
    "- ..."
   ]
  },
  {
   "cell_type": "markdown",
   "id": "a66a02b0",
   "metadata": {},
   "source": [
    "Describe what is the next step/content of the cell (if necessary)...\n",
    "\n",
    "Can add images, screenshots of slided, ...\n",
    "\n",
    "To add an image:\n",
    "- add it to the `_static/images/` folder\n",
    "- link the image as: https://raw.githubusercontent.com/bobiac/bobiac-book/main/_static/images/example_image.png. This is because when we dounload just the notebook, we want to be able to see the image. It also means that until the image is uploaded to the main branch, it will not be visible in the notebook.\n",
    "- use the following syntax (by changing the `width` or `height` you can resize the image):\n",
    "\n",
    "<img align=\"center\" src=\"https://raw.githubusercontent.com/bobiac/bobiac-book/main/_static/images/example_image.png\" alt=\"Example image\" width=\"300px\">\n",
    "\n",
    "\n"
   ]
  },
  {
   "cell_type": "code",
   "execution_count": null,
   "id": "b867c095",
   "metadata": {},
   "outputs": [],
   "source": [
    "import matplotlib.pyplot as plt\n",
    "import numpy as np"
   ]
  },
  {
   "cell_type": "markdown",
   "id": "f6203dee",
   "metadata": {},
   "source": [
    "Describe what is the next step/content of the cell (if necessary)...\n",
    "\n",
    "Can add images, screenshots of slided, ..."
   ]
  },
  {
   "cell_type": "code",
   "execution_count": null,
   "id": "da80fb64",
   "metadata": {},
   "outputs": [],
   "source": [
    "img = np.random.randint(0, 255, (10, 100, 100), dtype=np.uint8)"
   ]
  },
  {
   "cell_type": "markdown",
   "id": "355e8565",
   "metadata": {},
   "source": [
    "Describe what is the next step/content of the cell (if necessary)...\n",
    "\n",
    "Can add images, screenshots of slided, ..."
   ]
  },
  {
   "cell_type": "code",
   "execution_count": null,
   "id": "2879f092",
   "metadata": {},
   "outputs": [],
   "source": [
    "plt.imshow(img[0], cmap=\"gray\")\n",
    "plt.axis(\"off\")\n",
    "plt.show()"
   ]
  }
 ],
 "metadata": {
  "kernelspec": {
   "display_name": "Python 3 (ipykernel)",
   "language": "python",
   "name": "python3"
  },
  "language_info": {
   "codemirror_mode": {
    "name": "ipython",
    "version": 3
   },
   "file_extension": ".py",
   "mimetype": "text/x-python",
   "name": "python",
   "nbconvert_exporter": "python",
   "pygments_lexer": "ipython3",
   "version": "3.12.11"
  }
 },
 "nbformat": 4,
 "nbformat_minor": 5
}
